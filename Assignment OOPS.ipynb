{
 "cells": [
  {
   "cell_type": "code",
   "execution_count": 1,
   "id": "572c14ff-b778-45b8-bed8-8dd51c27e03d",
   "metadata": {},
   "outputs": [],
   "source": [
    "# What is Object-Oriented Programming (OOP)?\n",
    "# Ans) Object-oriented programming (OOP) is a computer programming model that organizes software design around objects, or data, instead of logic and functions."
   ]
  },
  {
   "cell_type": "code",
   "execution_count": 87,
   "id": "71ca593d-ef3a-444d-a925-ef2abed4379e",
   "metadata": {},
   "outputs": [],
   "source": [
    "#What is a class in OOP?\n",
    "#Ans)  a class is a template that defines the methods and variables for a specific type of object."
   ]
  },
  {
   "cell_type": "code",
   "execution_count": 89,
   "id": "b79852d8-6013-4f19-be9e-dc1997443b0c",
   "metadata": {},
   "outputs": [],
   "source": [
    "#What is an object in OOP?\n",
    "#Ans)an object is a fundamental unit of code that is a data structure with methods and fields"
   ]
  },
  {
   "cell_type": "code",
   "execution_count": null,
   "id": "aeedd302-da14-4821-ab0d-24213165c83a",
   "metadata": {},
   "outputs": [],
   "source": [
    "#What is the difference between abstraction and encapsulation?\n",
    "#Ans)* Abstraction is the concept of hiding the complexity and implementation details of a system and only exposing the essential features or functionalities. It allows you to focus on what an object does, rather than how it does it.\n",
    "#    * Encapsulation is the process of bundling the data (attributes) and methods (functions) that operate on that data into a single unit or class. It also involves restricting direct access to some of an object's components, which protects its internal state from unintended interference and misuse."
   ]
  },
  {
   "cell_type": "code",
   "execution_count": 93,
   "id": "d436c046-5b31-4adc-8e11-80c9cf5627a3",
   "metadata": {},
   "outputs": [],
   "source": [
    "#What are dunder methods in Python?\n",
    "#Ans) * dunder methods, also known as magic methods or special methods, are methods that have double underscores (or \"dunders\") at the beginning and end of their names, such as __init__, __str__, and __add__\n",
    "#     * built-in classes define these types of methods for creating custom objects "
   ]
  },
  {
   "cell_type": "code",
   "execution_count": 9,
   "id": "df66c87a-cbfd-4f9b-bf8e-85e7fee6351e",
   "metadata": {},
   "outputs": [],
   "source": [
    "#Explain the concept of inheritance in OOP?\n",
    "#Ans) Inheritance is a fundamental concept in object-oriented programming (OOP) that allows a class to inherit properties and behaviors from another class\n",
    "   #syntax\n",
    "#class BaseClass:\n",
    "    #body of base class\n",
    "#class DerivedClass(BaseClass):\n",
    "    #body of derived class"
   ]
  },
  {
   "cell_type": "code",
   "execution_count": 95,
   "id": "c3a46314-b444-4091-ba74-71007f853c5a",
   "metadata": {},
   "outputs": [],
   "source": [
    "#What is polymorphism in OOP?\n",
    "#Ans)* polymorphism >> poly means many and morphism means forms/states\n",
    "#    * it refers to an object taking several forms depending on the methods/data"
   ]
  },
  {
   "cell_type": "code",
   "execution_count": 97,
   "id": "221f925b-685a-4270-abf0-c1eb2f10a6b5",
   "metadata": {},
   "outputs": [],
   "source": [
    "#How is encapsulation achieved in Python?\n",
    "#Ans)*Encapsulation means hiding something\n",
    "#    *done by bundling of data and methods of a class\n",
    "#    *it can be achieved by three types of access modifiers i.e. public,private,protected."
   ]
  },
  {
   "cell_type": "code",
   "execution_count": 99,
   "id": "17234aad-137d-448a-812e-5ddb4e636faf",
   "metadata": {},
   "outputs": [],
   "source": [
    "#What is a constructor in Python?\n",
    "#Ans) Constructors in Python is a special class method for creating and initializing an object instance at that class.\n",
    "#     for ex. __init__, etc."
   ]
  },
  {
   "cell_type": "code",
   "execution_count": 101,
   "id": "29d261f6-2f57-491d-b95b-a874d38af891",
   "metadata": {},
   "outputs": [],
   "source": [
    "#What are class and static methods in Python?\n",
    "#Ans) Class method-\n",
    "#     *The @classmethod decorator is a built-in function decorator that is an expression that gets evaluated after your function is defined. \n",
    "#     *The result of that evaluation shadows your function definition. \n",
    "#     *A class method receives the class as an implicit first argument, just like an instance method receives the instance \n",
    "# Static method-\n",
    "#     * A static method does not receive an implicit first argument. A static method is also a method that is bound to the class and not the object of the class.\n",
    "#     * This method can’t access or modify the class state.\n",
    "#     * It is present in a class because it makes sense for the method to be present in class.   "
   ]
  },
  {
   "cell_type": "code",
   "execution_count": 134,
   "id": "deec97eb-1412-4e85-8e63-626d6cce268e",
   "metadata": {},
   "outputs": [],
   "source": [
    "#What is method overloading in Python?\n",
    "#Ans)When two or more methods have the same name but different numbers of parameters or different types of parameters, or both, this method is called method over-loading."
   ]
  },
  {
   "cell_type": "code",
   "execution_count": 136,
   "id": "1fd16d64-4fe8-423d-959d-86e3a6fe1d63",
   "metadata": {},
   "outputs": [],
   "source": [
    "#What is method overriding in OOP?\n",
    "#Ans)Method overriding is a feature in object-oriented programming (OOP) that allows a subclass to replace a method in its superclass with its own implementation.\n",
    "#    The subclass method must have the same name, parameters, signature, and return type as the superclass method"
   ]
  },
  {
   "cell_type": "code",
   "execution_count": 142,
   "id": "dd314e10-eec1-44b3-9e95-f03fc6a89915",
   "metadata": {},
   "outputs": [],
   "source": [
    "#What is a property decorator in Python?\n",
    "#Ans)In Python, the @property decorator is used to define methods that can be accessed as if they were attributes,\n",
    "#    allowing you to implement custom behavior when getting, setting, or deleting their values."
   ]
  },
  {
   "cell_type": "code",
   "execution_count": 144,
   "id": "0426ad30-82b0-4c10-a3da-2088ffd64fdb",
   "metadata": {},
   "outputs": [],
   "source": [
    "#Why is polymorphism important in OOP?\n",
    "#Ans) Polymorphism is a core feature of object-oriented programming (OOP) languages that allows for code reusability, flexibility, and extensibility.\n",
    "#     It's important because it allows programmers to reuse code, extend programs,store multiple data types, improve readability, etc."
   ]
  },
  {
   "cell_type": "code",
   "execution_count": 146,
   "id": "270d6d53-1b95-44c0-9bc6-b573eb77c066",
   "metadata": {},
   "outputs": [],
   "source": [
    "#What is an abstract class in Python?\n",
    "#Ans)An abstract class is a class that cannot be instantiated on its own and is designed to be a blueprint for other classes. \n",
    "#    It serves as a base class for derived classes, providing a common interface and structure that they must adhere to."
   ]
  },
  {
   "cell_type": "code",
   "execution_count": 148,
   "id": "a7bce8e9-1296-42a3-9c89-385d0b742573",
   "metadata": {},
   "outputs": [],
   "source": [
    "#What are the advantages of OOP?\n",
    "#Ans)Some advantages of OOP are - \n",
    "#    Modularity -  Encapsulation enables objects to be self-contained, making troubleshooting and collaborative development easier.\n",
    "#    Reusability -  Code can be reused through inheritance, meaning a team does not have to write the same code multiple times.\n",
    "#    Productivity -  Programmers can construct new programs quickly through the use of multiple libraries and reusable code.\n",
    "#    Flexibility -  Polymorphism enables a single function to adapt to the class it is placed in. Different objects can also pass through the same interface.., etc"
   ]
  },
  {
   "cell_type": "code",
   "execution_count": 150,
   "id": "a8e97b8e-9b65-4216-8744-2f077079c260",
   "metadata": {},
   "outputs": [],
   "source": [
    "#What is the difference between a class variable and an instance variable?\n",
    "#Ans)* The main difference between a class variable and an instance variable is that class variables are shared by all instances of a class, \n",
    "#     while instance variables are unique to each instance.\n",
    "#    *class variables are variables at the class level, while instance variables are variables at the object level "
   ]
  },
  {
   "cell_type": "code",
   "execution_count": 152,
   "id": "7740facf-4df0-408d-b090-2ea39d0a0c87",
   "metadata": {},
   "outputs": [],
   "source": [
    "#What is multiple inheritance in Python?\n",
    "#Ans)Multiple inheritance in Python is a feature that allows a class to inherit from more than one parent class. \n",
    "#    This means that the child class can inherit attributes and methods from multiple sources."
   ]
  },
  {
   "cell_type": "code",
   "execution_count": 154,
   "id": "1eca25b0-8fe6-4619-945b-634b88a0fc12",
   "metadata": {},
   "outputs": [],
   "source": [
    "#Explain the purpose of ‘’__str__’ and ‘__repr__’ ‘ methods in Python?\n",
    "#Ans)* __str__ - used to provide a human-readable representation of an object. \n",
    "#                This is the string that's displayed when you use the print() function or convert the object to a string using str().\n",
    "# * __repr__ - To provide a more detailed and unambiguous representation of an object, ideally one that can be used to recreate the object.\n",
    "#              This is the string that's displayed when you use the repr() function or when you evaluate the object in the interactive interpreter."
   ]
  },
  {
   "cell_type": "code",
   "execution_count": 156,
   "id": "01110430-8e4d-46a8-9c0d-f1db048ce0aa",
   "metadata": {},
   "outputs": [],
   "source": [
    "#What is the significance of the ‘super()’ function in Python?\n",
    "#Ans) The super() function in Python is used to access methods and properties of a parent or superclass from a child or subclass. \n",
    "#     It's particularly useful when working with inheritance in object-oriented programming.\n"
   ]
  },
  {
   "cell_type": "code",
   "execution_count": 158,
   "id": "ab8e44c5-3b81-4a8f-a55c-70f8667c1c9c",
   "metadata": {},
   "outputs": [],
   "source": [
    "#What is the significance of the __del__ method in Python?\n",
    "#Ans)__del__ is a finalizer. It is called when an object is garbage collected which happens at some point after all references to the object have been deleted. \n",
    "#   In a simple case this could be right after you say del x or, if x is a local variable, after the function ends."
   ]
  },
  {
   "cell_type": "code",
   "execution_count": 160,
   "id": "ce8f8df7-a18c-4cde-8d1e-f648cc2ece3e",
   "metadata": {},
   "outputs": [],
   "source": [
    "# What is the difference between @staticmethod and @classmethod in Python?\n",
    "#Ans)Class method-\n",
    "#     *The @classmethod decorator is a built-in function decorator that is an expression that gets evaluated after your function is defined. \n",
    "#     *The result of that evaluation shadows your function definition. \n",
    "#     *A class method receives the class as an implicit first argument, just like an instance method receives the instance \n",
    "# Static method-\n",
    "#     * A static method does not receive an implicit first argument. A static method is also a method that is bound to the class and not the object of the class.\n",
    "#     * This method can’t access or modify the class state.\n",
    "#     * It is present in a class because it makes sense for the method to be present in class."
   ]
  },
  {
   "cell_type": "code",
   "execution_count": 162,
   "id": "fb1316b7-efdf-46b0-9624-74163b927d5e",
   "metadata": {},
   "outputs": [],
   "source": [
    "#How does polymorphism work in Python with inheritance?\n",
    "#Ans)  Polymorphism in Python with inheritance works through a concept called method overriding.\n",
    "#     *create a base class with a method.\n",
    "#     *Overriding: A derived class (subclass) inherits that method from the base class, but it can provide its own implementation of the method with the same name.\n",
    "#     *Polymorphism: When you call the method on an object, Python determines the object's actual type at runtime and executes the appropriate method based on that type."
   ]
  },
  {
   "cell_type": "code",
   "execution_count": 170,
   "id": "57a0b9c7-b9e0-40ee-bc2a-61a589060936",
   "metadata": {},
   "outputs": [],
   "source": [
    "# What is method chaining in Python OOP?\n",
    "#Ans)*Method chaining in Python OOP is a technique where you call multiple methods on an object in a single line of code.\n",
    "#   * This is achieved by having each method return the object itself (usually using return self).\n",
    "#   * Each method call returns an object, often the same object (modified or not), allowing the subsequent method to operate on that object."
   ]
  },
  {
   "cell_type": "code",
   "execution_count": 172,
   "id": "386b7e1e-7616-4a38-8ec2-34dc7de8ef70",
   "metadata": {},
   "outputs": [],
   "source": [
    "#What is the purpose of the __call__ method in Python?\n",
    "#Ans)In Python, the __call__ method allows you to make an object callable, meaning you can use it like a function.\n",
    "#    *When you define a __call__ method within a class, you enable instances of that class to be treated as functions.\n",
    "#    *When you call an instance of the class, the __call__ method is executed.\n",
    "#class Adder:\n",
    " #   def __init__(self, value):\n",
    "  #      self.value = value\n",
    "#\n",
    " #   def __call__(self, other):\n",
    "  #      return self.value + other\n",
    "\n",
    "#add_5 = Adder(5)\n",
    "#result = add_5(10) "
   ]
  },
  {
   "cell_type": "markdown",
   "id": "68740c2e-dfa2-4de4-82b8-5ca6e04d7973",
   "metadata": {},
   "source": [
    "Practical Questions"
   ]
  },
  {
   "cell_type": "code",
   "execution_count": 177,
   "id": "b31a4929-81f8-4647-8d50-bf102c53c577",
   "metadata": {},
   "outputs": [],
   "source": [
    "#Create a parent class Animal with a method speak() that prints a generic message. Create a child class Dog that overrides the speak() method to print \"Bark!\".\n",
    "class Animal:\n",
    "    def speak(self):\n",
    "        print(\"Save Nature,Save Earth\")\n",
    "\n",
    "class Dog(Animal):\n",
    "    def speak(self):\n",
    "        print(\"Bark!\")"
   ]
  },
  {
   "cell_type": "code",
   "execution_count": 5,
   "id": "6de89524-74fc-4514-b74c-84bbd7521c32",
   "metadata": {},
   "outputs": [
    {
     "data": {
      "text/plain": [
       "'Area of circle is pi r **2'"
      ]
     },
     "execution_count": 5,
     "metadata": {},
     "output_type": "execute_result"
    }
   ],
   "source": [
    "# Write a program to create an abstract class Shape with a method area(). Derive classes Circle and Rectangle from it and implement the area() method in both.\n",
    "import abc\n",
    "class Shape:\n",
    "\n",
    "    @abc.abstractmethod\n",
    "    def calculate_Area(self):\n",
    "        pass\n",
    "\n",
    "class Rectangle(Shape):\n",
    "    def calculate_Area(self):\n",
    "        return \"Area of rectangle is len*breadth\"\n",
    "\n",
    "class Circle(Shape):\n",
    "    def calculate_Area(self):\n",
    "        return \"Area of circle is pi r **2\"\n",
    "\n",
    "#Creating an object for class\n",
    "c = Circle()\n",
    "c.calculate_Area()"
   ]
  },
  {
   "cell_type": "code",
   "execution_count": 7,
   "id": "cb35e37b-ba28-418c-8547-5c1fab1d2ff1",
   "metadata": {},
   "outputs": [
    {
     "name": "stdout",
     "output_type": "stream",
     "text": [
      "Inside vehicle class\n"
     ]
    }
   ],
   "source": [
    "#Implement a multi-level inheritance scenario where a class Vehicle has an attribute type. Derive a class Car and further derive a class ElectricCar that adds a battery attribute.\n",
    "class Vehicle:\n",
    "    def vehicle_info(self):\n",
    "        print(\"Inside vehicle class\")\n",
    "\n",
    "class Car(Vehicle):\n",
    "    def car_info(self):\n",
    "        print(\"Inside the car class\")\n",
    "\n",
    "class ElectricCar(Car):\n",
    "    def electric_car_info(self,battery):\n",
    "        print(\"Inside electric car\")\n",
    "\n",
    "#Creating ab object for class\n",
    "obj = ElectricCar()\n",
    "obj.vehicle_info()"
   ]
  },
  {
   "cell_type": "code",
   "execution_count": 9,
   "id": "59d9e953-943c-4f69-a825-a1271323dbbd",
   "metadata": {},
   "outputs": [
    {
     "name": "stdout",
     "output_type": "stream",
     "text": [
      "Inside the car class\n"
     ]
    }
   ],
   "source": [
    "# Implement a multi-level inheritance scenario where a class Vehicle has an attribute type. Derive a class Car and further derive a class ElectricCar that adds a battery attribute\n",
    "class Vehicle:\n",
    "    def vehicle_info(self):\n",
    "        print(\"Inside vehicle class\")\n",
    "\n",
    "class Car(Vehicle):\n",
    "    def car_info(self):\n",
    "        print(\"Inside the car class\")\n",
    "\n",
    "class ElectricCar(Car):\n",
    "    def electric_car_info(self,battery):\n",
    "        print(\"Inside electric car\")\n",
    "\n",
    "#Creating ab object for class\n",
    "obj = ElectricCar()\n",
    "obj.car_info()"
   ]
  },
  {
   "cell_type": "code",
   "execution_count": 25,
   "id": "ada33160-6fa5-443e-a9e5-c67364f52093",
   "metadata": {},
   "outputs": [
    {
     "data": {
      "text/plain": [
       "1100"
      ]
     },
     "execution_count": 25,
     "metadata": {},
     "output_type": "execute_result"
    }
   ],
   "source": [
    "#Write a program to demonstrate encapsulation by creating a class BankAccount with private attributes balance and methods to deposit, withdraw, and check balance.\n",
    "class BankAccount:    #either you deposit or withdraw\n",
    "    def __init__(self, balance):\n",
    "        self.__balance = balance\n",
    "\n",
    "    def deposit(self,amount):     #amount is new deposition\n",
    "        self.__balance = self.__balance + amount\n",
    "\n",
    "    def withdraw(self, amount):   # here ,amount is the withdrawal amount\n",
    "        if self.__balance >= amount:\n",
    "            self.__balance = self.__balance - amount\n",
    "            return True\n",
    "\n",
    "        else:\n",
    "            return False\n",
    "\n",
    "    def get_balance(self):\n",
    "        return self.__balance\n",
    "\n",
    "#creating an object for the class\n",
    "acc1 = BankAccount(1000)\n",
    "acc1.deposit(100)\n",
    "acc1.get_balance()"
   ]
  },
  {
   "cell_type": "code",
   "execution_count": 13,
   "id": "abf8fd87-d848-4554-88cb-15b04f29300e",
   "metadata": {},
   "outputs": [
    {
     "name": "stdout",
     "output_type": "stream",
     "text": [
      "Strumming the guitar\n",
      "Playing the piano keys\n"
     ]
    }
   ],
   "source": [
    "#Demonstrate runtime polymorphism using a method play() in a base class Instrument. Derive classes Guitar and Piano that implement their own version of play()\n",
    "# Base class: Instrument\n",
    "class Instrument:\n",
    "    def play(self):\n",
    "        print(\"Playing the instrument\")\n",
    "\n",
    "class Guitar(Instrument):\n",
    "    def play(self):\n",
    "        print(\"Strumming the guitar\")\n",
    "\n",
    "class Piano(Instrument):\n",
    "    def play(self):\n",
    "        print(\"Playing the piano keys\")\n",
    "\n",
    "def play_instrument(instrument: Instrument):\n",
    "    instrument.play() \n",
    "\n",
    "# Creating objects of the derived classes\n",
    "guitar = Guitar()\n",
    "piano = Piano()\n",
    "\n",
    "# Calling the play_instrument function with different instrument types\n",
    "play_instrument(guitar)  \n",
    "play_instrument(piano)   \n"
   ]
  },
  {
   "cell_type": "code",
   "execution_count": 197,
   "id": "30690578-3a09-47b1-8acb-797ba7634fda",
   "metadata": {},
   "outputs": [
    {
     "name": "stdout",
     "output_type": "stream",
     "text": [
      "Sum: 15\n",
      "Difference: 5\n"
     ]
    }
   ],
   "source": [
    "#Create a class MathOperations with a class method add_numbers() to add two numbers and a static method subtract_numbers() to subtract two numbers.\n",
    "class MathOperations:\n",
    "    # Class method to add two numbers\n",
    "    @classmethod\n",
    "    def add_numbers(cls, x, y):\n",
    "        return x + y\n",
    "    \n",
    "    # Static method to subtract two numbers\n",
    "    @staticmethod\n",
    "    def subtract_numbers(x, y):\n",
    "        return x - y\n",
    "\n",
    "# Using the class method and static method\n",
    "sum_result = MathOperations.add_numbers(10, 5)  # Calls class method\n",
    "difference_result = MathOperations.subtract_numbers(10, 5)  # Calls static method\n",
    "\n",
    "# Output the results\n",
    "print(f\"Sum: {sum_result}\")         \n",
    "print(f\"Difference: {difference_result}\")  \n"
   ]
  },
  {
   "cell_type": "code",
   "execution_count": 199,
   "id": "1ec62a8e-bf57-4ad2-95e2-79e95feee96e",
   "metadata": {},
   "outputs": [
    {
     "name": "stdout",
     "output_type": "stream",
     "text": [
      "Total persons created: 3\n"
     ]
    }
   ],
   "source": [
    "# Implement a class Person with a class method to count the total number of persons created.\n",
    "class Person:\n",
    "    total_persons = 0\n",
    "\n",
    "    def __init__(self, name, age):\n",
    "        self.name = name\n",
    "        self.age = age\n",
    "        Person.total_persons += 1\n",
    "\n",
    "    # Class method to return the total number of persons created\n",
    "    @classmethod\n",
    "    def get_total_persons(cls):\n",
    "        return cls.total_persons\n",
    "\n",
    "# Creating some Person objects\n",
    "person1 = Person(\"Alice\", 30)\n",
    "person2 = Person(\"Bob\", 25)\n",
    "person3 = Person(\"Charlie\", 35)\n",
    "\n",
    "# Getting the total number of persons created using the class method\n",
    "print(f\"Total persons created: {Person.get_total_persons()}\")  \n"
   ]
  },
  {
   "cell_type": "code",
   "execution_count": 205,
   "id": "8b7a36e5-058e-4c99-af2f-ad9ebc4b1d35",
   "metadata": {},
   "outputs": [
    {
     "name": "stdout",
     "output_type": "stream",
     "text": [
      "9/4\n"
     ]
    }
   ],
   "source": [
    "#Write a class Fraction with attributes numerator and denominator. Override the str method to display the fraction as \"numerator/denominator\".\n",
    "class Fraction:\n",
    "    def __init__(self, numerator, denominator):\n",
    "        self.numerator = numerator\n",
    "        self.denominator = denominator\n",
    "\n",
    "    def __str__(self):\n",
    "        # Override __str__ method to return the fraction as a string\n",
    "        return f\"{self.numerator}/{self.denominator}\"\n",
    "\n",
    "# Create an instance of the Fraction class\n",
    "fraction = Fraction(9, 4)\n",
    "\n",
    "# Print the fraction using the overridden __str__ method\n",
    "print(fraction)  \n"
   ]
  },
  {
   "cell_type": "code",
   "execution_count": 211,
   "id": "f7bb4b47-f311-4e42-b6b2-f8399ed28b94",
   "metadata": {},
   "outputs": [
    {
     "name": "stdout",
     "output_type": "stream",
     "text": [
      "Sum of vectors: (4, 6)\n"
     ]
    }
   ],
   "source": [
    "# Demonstrate operator overloading by creating a class Vector and overriding the add method to add two vectors.\n",
    "class Vector:\n",
    "    def __init__(self, x, y):\n",
    "        self.x = x\n",
    "        self.y = y\n",
    "\n",
    "    # Overloading the + operator to add two vectors\n",
    "    def __add__(self, other):\n",
    "        # Ensure the other object is also a Vector\n",
    "        if isinstance(other, Vector):\n",
    "            return Vector(self.x + other.x, self.y + other.y)\n",
    "        else:\n",
    "            raise TypeError(\"Operands must be instances of Vector class\")\n",
    "\n",
    "    def __str__(self):\n",
    "        return f\"({self.x}, {self.y})\"\n",
    "\n",
    "# Create two Vector objects\n",
    "vector1 = Vector(1, 2)\n",
    "vector2 = Vector(3, 4)\n",
    "\n",
    "# Add the two vectors using the overloaded + operator\n",
    "result = vector1 + vector2\n",
    "\n",
    "print(f\"Sum of vectors: {result}\")  \n"
   ]
  },
  {
   "cell_type": "code",
   "execution_count": 219,
   "id": "449e27ea-6bc3-48d5-974e-78d1d4c690b7",
   "metadata": {},
   "outputs": [
    {
     "name": "stdout",
     "output_type": "stream",
     "text": [
      "Hello, my name is Ram and I am 22 years old.\n"
     ]
    }
   ],
   "source": [
    "#Create a class Person with attributes name and age. Add a method greet() that prints \"Hello, my name is {name} and I am {age} years old.\"\n",
    "class Person:\n",
    "    def __init__(self,name,age):\n",
    "        self.name = name\n",
    "        self.age = age\n",
    "    def greet(self):\n",
    "        print(f\"Hello, my name is {self.name} and I am {self.age} years old.\")\n",
    "      \n",
    "\n",
    "#making an object or the class Person\n",
    "obj1 = Person(\"Ram\", \"22\")\n",
    "obj1.greet()"
   ]
  },
  {
   "cell_type": "code",
   "execution_count": 227,
   "id": "714874b1-54a6-449d-a304-d6a8e3d81eb9",
   "metadata": {},
   "outputs": [
    {
     "name": "stdout",
     "output_type": "stream",
     "text": [
      "Alice's average grade is: 90.00\n"
     ]
    }
   ],
   "source": [
    "#Implement a class Student with attributes name and grades. Create a method average_grade() to compute the average of the grades.\n",
    "class Student:\n",
    "    def __init__(self,name,grades):\n",
    "        self.name = name\n",
    "        self.grades = grades\n",
    "\n",
    "    def average_grade(self):\n",
    "        if len(self.grades) == 0:\n",
    "            return 0\n",
    "        else:\n",
    "            return sum(self.grades)/ len(self.grades)\n",
    "\n",
    "    print(f\"{student1.name}'s average grade is: {average:.2f}\")\n",
    "\n",
    "#creating an object for class Student\n",
    "student1 = Student(\"Alice\", [90, 85, 88, 92, 95])\n",
    "average = student1.average_grade()  "
   ]
  },
  {
   "cell_type": "code",
   "execution_count": 1,
   "id": "b93c78dc-030d-4312-a139-e17ffabf6ffc",
   "metadata": {},
   "outputs": [
    {
     "name": "stdout",
     "output_type": "stream",
     "text": [
      "Area of the rectangle: 15\n"
     ]
    }
   ],
   "source": [
    "#Create a class Rectangle with methods set_dimensions() to set the dimensions and area() to calculate the area.\n",
    "class Rectangle:\n",
    "    def __init__(self):\n",
    "        self.length = 0\n",
    "        self.width = 0\n",
    "\n",
    "    def set_dimensions(self, length, width):\n",
    "        self.length = length\n",
    "        self.width = width\n",
    "\n",
    "    def area(self):\n",
    "        return self.length * self.width\n",
    "\n",
    "# Example-\n",
    "rect = Rectangle()\n",
    "rect.set_dimensions(5, 3)\n",
    "print(\"Area of the rectangle:\", rect.area())\n"
   ]
  },
  {
   "cell_type": "code",
   "execution_count": 9,
   "id": "7936d02b-199b-4302-b241-08c85f3b0b16",
   "metadata": {},
   "outputs": [
    {
     "name": "stdout",
     "output_type": "stream",
     "text": [
      "Ram's salary: Rs 800\n",
      "Shyam's salary: Rs 1700\n"
     ]
    }
   ],
   "source": [
    "#Create a class Employee with a method calculate_salary() that computes the salary based on hours worked and hourly rate. Create a derived class Manager that adds a bonus to the salary.\n",
    "class Employee:\n",
    "    def __init__(self, name, hours_worked, hourly_rate):\n",
    "        self.name = name\n",
    "        self.hours_worked = hours_worked\n",
    "        self.hourly_rate = hourly_rate\n",
    "\n",
    "    def calculate_salary(self):\n",
    "        return self.hours_worked * self.hourly_rate\n",
    "\n",
    "class Manager(Employee):\n",
    "    def __init__(self, name, hours_worked, hourly_rate, bonus):\n",
    "        super().__init__(name, hours_worked, hourly_rate)\n",
    "        self.bonus = bonus\n",
    "\n",
    "    def calculate_salary(self):\n",
    "        # Calculate base salary from Employee class and add the bonus\n",
    "        base_salary = super().calculate_salary()\n",
    "        return base_salary + self.bonus\n",
    "\n",
    "# Example-\n",
    "employee = Employee(\"Ram\", 40, 20)\n",
    "manager = Manager(\"Shyam\", 40, 30, 500)\n",
    "\n",
    "print(f\"{employee.name}'s salary: Rs {employee.calculate_salary()}\")\n",
    "print(f\"{manager.name}'s salary: Rs {manager.calculate_salary()}\")\n"
   ]
  },
  {
   "cell_type": "code",
   "execution_count": 11,
   "id": "968c1bd4-75f3-47f1-987d-938e85ca8ad5",
   "metadata": {},
   "outputs": [
    {
     "name": "stdout",
     "output_type": "stream",
     "text": [
      "Total price of Laptop: Rs 40000\n"
     ]
    }
   ],
   "source": [
    "#Create a class Product with attributes name, price, and quantity. Implement a method total_price() that calculates the total price of the product.\n",
    "class Product:\n",
    "    def __init__(self, name, price, quantity):\n",
    "        self.name = name\n",
    "        self.price = price\n",
    "        self.quantity = quantity\n",
    "\n",
    "    def total_price(self):\n",
    "        return self.price * self.quantity\n",
    "\n",
    "# Example usage:\n",
    "product = Product(\"Laptop\", 5000, 8)\n",
    "print(f\"Total price of {product.name}: Rs {product.total_price()}\")\n"
   ]
  },
  {
   "cell_type": "code",
   "execution_count": 13,
   "id": "1133bc61-6dcc-48c9-8b65-8b5c56a77914",
   "metadata": {},
   "outputs": [
    {
     "name": "stdout",
     "output_type": "stream",
     "text": [
      "Cow makes sound: Moo\n",
      "Sheep makes sound: Baa\n"
     ]
    }
   ],
   "source": [
    "#Create a class Animal with an abstract method sound(). Create two derived classes Cow and Sheep that implement the sound() method.\n",
    "from abc import ABC, abstractmethod\n",
    "\n",
    "class Animal(ABC):\n",
    "    @abstractmethod\n",
    "    def sound(self):\n",
    "        pass\n",
    "\n",
    "class Cow(Animal):\n",
    "    def sound(self):\n",
    "        return \"Moo\"\n",
    "\n",
    "class Sheep(Animal):\n",
    "    def sound(self):\n",
    "        return \"Baa\"\n",
    "\n",
    "# Example-\n",
    "cow = Cow()\n",
    "sheep = Sheep()\n",
    "\n",
    "print(f\"Cow makes sound: {cow.sound()}\")\n",
    "print(f\"Sheep makes sound: {sheep.sound()}\")\n"
   ]
  },
  {
   "cell_type": "code",
   "execution_count": 15,
   "id": "eba06823-df53-430a-a55e-d8c9e3eb616c",
   "metadata": {},
   "outputs": [
    {
     "name": "stdout",
     "output_type": "stream",
     "text": [
      "'To Kill a Mockingbird' by Harper Lee, published in 1960\n"
     ]
    }
   ],
   "source": [
    "# Create a class Book with attributes title, author, and year_published. Add a method get_book_info() that returns a formatted string with the book's details.\n",
    "class Book:\n",
    "    def __init__(self, title, author, year_published):\n",
    "        self.title = title\n",
    "        self.author = author\n",
    "        self.year_published = year_published\n",
    "\n",
    "    def get_book_info(self):\n",
    "        return f\"'{self.title}' by {self.author}, published in {self.year_published}\"\n",
    "\n",
    "# Example-\n",
    "book = Book(\"To Kill a Mockingbird\", \"Harper Lee\", 1960)\n",
    "print(book.get_book_info())\n"
   ]
  },
  {
   "cell_type": "code",
   "execution_count": 17,
   "id": "29e454a3-23d9-478d-a256-3d6455881d8c",
   "metadata": {},
   "outputs": [
    {
     "name": "stdout",
     "output_type": "stream",
     "text": [
      "Address: 123 Elm St, Price: Rs 250000\n",
      "Address: 456 Luxury Ln, Price: Rs 1500000, Number of rooms: 10\n"
     ]
    }
   ],
   "source": [
    "#Create a class House with attributes address and price. Create a derived class Mansion that adds an attribute number_of_rooms.\n",
    "class House:\n",
    "    def __init__(self, address, price):\n",
    "        self.address = address\n",
    "        self.price = price\n",
    "\n",
    "    def get_house_info(self):\n",
    "        return f\"Address: {self.address}, Price: Rs {self.price}\"\n",
    "\n",
    "class Mansion(House):\n",
    "    def __init__(self, address, price, number_of_rooms):\n",
    "        super().__init__(address, price)\n",
    "        self.number_of_rooms = number_of_rooms\n",
    "\n",
    "    def get_mansion_info(self):\n",
    "        # Get basic house info and add the number of rooms\n",
    "        return f\"{super().get_house_info()}, Number of rooms: {self.number_of_rooms}\"\n",
    "\n",
    "# Example-\n",
    "house = House(\"123 Elm St\", 250000)\n",
    "mansion = Mansion(\"456 Luxury Ln\", 1500000, 10)\n",
    "\n",
    "print(house.get_house_info())  # House info with price\n",
    "print(mansion.get_mansion_info())  # Mansion info with price and number of rooms\n"
   ]
  }
 ],
 "metadata": {
  "kernelspec": {
   "display_name": "Python [conda env:base] *",
   "language": "python",
   "name": "conda-base-py"
  },
  "language_info": {
   "codemirror_mode": {
    "name": "ipython",
    "version": 3
   },
   "file_extension": ".py",
   "mimetype": "text/x-python",
   "name": "python",
   "nbconvert_exporter": "python",
   "pygments_lexer": "ipython3",
   "version": "3.12.7"
  }
 },
 "nbformat": 4,
 "nbformat_minor": 5
}
